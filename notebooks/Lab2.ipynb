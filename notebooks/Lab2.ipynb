{
  "nbformat": 4,
  "nbformat_minor": 0,
  "metadata": {
    "colab": {
      "name": "Lab2.ipynb",
      "provenance": [],
      "collapsed_sections": []
    },
    "kernelspec": {
      "name": "python3",
      "display_name": "Python 3"
    },
    "language_info": {
      "name": "python"
    }
  },
  "cells": [
    {
      "cell_type": "markdown",
      "metadata": {
        "id": "FNfEfoyyybdW"
      },
      "source": [
        "# Loading data"
      ]
    },
    {
      "cell_type": "code",
      "metadata": {
        "id": "JA8QVuct0Aj5"
      },
      "source": [
        "import pandas as pd\n",
        "df = pd.read_csv(\"https://github.com/kihyukh/stats206/raw/master/data/scooters_mini.csv.gz\")"
      ],
      "execution_count": null,
      "outputs": []
    },
    {
      "cell_type": "code",
      "metadata": {
        "id": "-W_lvIMBBXlg"
      },
      "source": [
        "# Demo by GSI"
      ],
      "execution_count": null,
      "outputs": []
    },
    {
      "cell_type": "markdown",
      "metadata": {
        "id": "mGgAph2v-qQD"
      },
      "source": [
        "# Explore data"
      ]
    },
    {
      "cell_type": "markdown",
      "metadata": {
        "id": "9zm7_GRz-H5r"
      },
      "source": [
        "Q1) What is the number of rows?"
      ]
    },
    {
      "cell_type": "code",
      "metadata": {
        "id": "--iKYqN1xSu1"
      },
      "source": [
        "# Your code here"
      ],
      "execution_count": null,
      "outputs": []
    },
    {
      "cell_type": "markdown",
      "metadata": {
        "id": "b-lbIDk4-hSd"
      },
      "source": [
        "# Analyze data"
      ]
    },
    {
      "cell_type": "markdown",
      "metadata": {
        "id": "6llCF6VHCa4h"
      },
      "source": [
        "Q2) What is the average trip duration?"
      ]
    },
    {
      "cell_type": "code",
      "metadata": {
        "id": "eNGmLYU22DMl"
      },
      "source": [
        "# Your code here"
      ],
      "execution_count": null,
      "outputs": []
    },
    {
      "cell_type": "markdown",
      "metadata": {
        "id": "wixvvuOBCoiI"
      },
      "source": [
        "Q3) What is the number of trips in Year 2020?"
      ]
    },
    {
      "cell_type": "code",
      "metadata": {
        "id": "-ky5RwdUCxA7"
      },
      "source": [
        "# Your code here"
      ],
      "execution_count": null,
      "outputs": []
    },
    {
      "cell_type": "markdown",
      "metadata": {
        "id": "FFIu7mvnCzGT"
      },
      "source": [
        "Q4) What is the median trip distance in Year 2021?"
      ]
    },
    {
      "cell_type": "code",
      "metadata": {
        "id": "6KJuolPMF11h"
      },
      "source": [
        "# Your code here"
      ],
      "execution_count": null,
      "outputs": []
    },
    {
      "cell_type": "markdown",
      "metadata": {
        "id": "7_C5fAMfF-Vo"
      },
      "source": [
        "Q5) What is the number of trips with trip duration less than the average trip duration?"
      ]
    },
    {
      "cell_type": "code",
      "metadata": {
        "id": "VqhKzEBxK62M"
      },
      "source": [
        "# Your code here"
      ],
      "execution_count": null,
      "outputs": []
    },
    {
      "cell_type": "markdown",
      "metadata": {
        "id": "wBjGgB89Fgvm"
      },
      "source": [
        "Q6) What is the unique number of scooters?"
      ]
    },
    {
      "cell_type": "code",
      "metadata": {
        "id": "M7t-18JxF2e8"
      },
      "source": [
        "# Your code here"
      ],
      "execution_count": null,
      "outputs": []
    },
    {
      "cell_type": "markdown",
      "metadata": {
        "id": "UhLkpvCvF29K"
      },
      "source": [
        "Optional Q) What is the median total distance run by the 100 scooters?"
      ]
    },
    {
      "cell_type": "code",
      "metadata": {
        "id": "XjZOPpaDP6vf"
      },
      "source": [
        "# Your code here"
      ],
      "execution_count": null,
      "outputs": []
    },
    {
      "cell_type": "markdown",
      "metadata": {
        "id": "6E9LNVmUzChP"
      },
      "source": [
        "Attendence Q) What is the sum of the answers for Q1, Q2, Q3, Q4, Q5, Q6? (Round up to a whole number) "
      ]
    },
    {
      "cell_type": "code",
      "metadata": {
        "id": "Gr19IDMRD0GH"
      },
      "source": [
        "# Your code here"
      ],
      "execution_count": null,
      "outputs": []
    }
  ]
}